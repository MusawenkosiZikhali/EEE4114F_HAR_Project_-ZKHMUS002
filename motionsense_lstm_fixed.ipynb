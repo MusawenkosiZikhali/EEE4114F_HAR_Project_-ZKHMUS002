{
 "cells": [
  {
   "cell_type": "markdown",
   "id": "6536a38c",
   "metadata": {},
   "source": [
    "# Human Activity Recognition\n",
    "This notebook provides some guidelines for building a classifier for the MotionSense dataset"
   ]
  },
  {
   "cell_type": "code",
   "execution_count": 1,
   "id": "05398592",
   "metadata": {},
   "outputs": [],
   "source": [
    "import numpy as np\n",
    "import pandas as pd\n",
    "import matplotlib.pyplot as plt\n",
    "from sklearn.model_selection import train_test_split, TimeSeriesSplit\n",
    "from sklearn.preprocessing import MinMaxScaler, StandardScaler\n",
    "from sklearn.preprocessing import LabelEncoder\n",
    "from sklearn.model_selection import cross_val_score\n",
    "from sklearn.metrics import classification_report, confusion_matrix, accuracy_score\n",
    "import torch\n",
    "import torch.nn as nn\n",
    "import torch.nn.functional as F\n",
    "import torch.optim as optim\n",
    "from torch.utils.data import Dataset, DataLoader\n",
    "from torch.utils.data import TensorDataset, DataLoader\n",
    "from sklearn.ensemble import RandomForestClassifier\n",
    "from sklearn.metrics import classification_report, confusion_matrix\n",
    "import seaborn as sns"
   ]
  },
  {
   "cell_type": "markdown",
   "id": "49379c42",
   "metadata": {},
   "source": [
    "# Generate time-series data\n",
    "The original MotionSense dataset comes in a slightly cumbersome format, but the authors do provide a few functions to produce Pandas DataFrames with control over what is produced. For our purposes we are not concerned with all of the target data, as we only need to know the activity that was being recorded. "
   ]
  },
  {
   "cell_type": "code",
   "execution_count": 2,
   "id": "5f4fa97e",
   "metadata": {},
   "outputs": [],
   "source": [
    "def get_ds_infos():\n",
    "    \"\"\"\n",
    "    Read the file includes data subject information.\n",
    "\n",
    "    EEE4114: Technically we do not need these data, as we are not concerned about identifying the subjects. \n",
    "    \n",
    "    Data Columns:\n",
    "    0: code [1-24]\n",
    "    1: weight [kg]\n",
    "    2: height [cm]\n",
    "    3: age [years]\n",
    "    4: gender [0:Female, 1:Male]\n",
    "    \n",
    "    Returns:\n",
    "        A pandas DataFrame that contains information about data subjects' attributes \n",
    "    \"\"\" \n",
    "\n",
    "    dss = pd.read_csv(\"data_subjects_info.csv\")\n",
    "    print(\"[INFO] -- Data subjects' information is imported.\")\n",
    "    \n",
    "    return dss\n",
    "\n",
    "def set_data_types(data_types=[\"userAcceleration\"]):\n",
    "    \"\"\"\n",
    "    Select the sensors and the mode to shape the final dataset. \n",
    "\n",
    "    EEE4114F: Choose sensors that you think are useful or would like to include in training. \n",
    "    You can choose all of them, or you could opt to try a limited set of input features\n",
    "    \n",
    "    Args:\n",
    "        data_types: A list of sensor data type from this list: [attitude, gravity, rotationRate, userAcceleration] \n",
    "\n",
    "    Returns:\n",
    "        It returns a list of columns to use for creating time-series from files.\n",
    "    \"\"\"\n",
    "    dt_list = []\n",
    "    for t in data_types:\n",
    "        if t != \"attitude\":\n",
    "            dt_list.append([t+\".x\",t+\".y\",t+\".z\"])\n",
    "        else:\n",
    "            dt_list.append([t+\".roll\", t+\".pitch\", t+\".yaw\"])\n",
    "\n",
    "    return dt_list\n",
    "\n",
    "\n",
    "def create_time_series(dt_list, act_labels, trial_codes, mode=\"mag\", labeled=True):\n",
    "    \"\"\"\n",
    "    EEE4114F: This defines what data you would like to include for a given set.  \n",
    "\n",
    "    Args:\n",
    "        dt_list: A list of columns that shows the type of data we want.\n",
    "        act_labels: list of activites\n",
    "        trial_codes: list of trials\n",
    "        mode: It can be \"raw\" which means you want raw data\n",
    "        for every dimension of each data type,\n",
    "        [attitude(roll, pitch, yaw); gravity(x, y, z); rotationRate(x, y, z); userAcceleration(x,y,z)].\n",
    "        or it can be \"mag\" which means you only want the magnitude for each data type: (x^2+y^2+z^2)^(1/2)\n",
    "        labeled: True, if we want a labeled dataset. False, if we only want sensor values.\n",
    "\n",
    "    Returns:\n",
    "        It returns a time-series of sensor data.\n",
    "    \n",
    "    \"\"\"\n",
    "    num_data_cols = len(dt_list) if mode == \"mag\" else len(dt_list*3)\n",
    "\n",
    "    if labeled:\n",
    "        dataset = np.zeros((0,num_data_cols+1)) # \"1\" --> [act] we do not need the other labels\n",
    "    else:\n",
    "        dataset = np.zeros((0,num_data_cols))\n",
    "        \n",
    "    ds_list = get_ds_infos()\n",
    "    \n",
    "    print(\"[INFO] -- Creating Time-Series\")\n",
    "    for sub_id in ds_list[\"code\"]:\n",
    "        for act_id, act in enumerate(act_labels):\n",
    "            for trial in trial_codes[act_id]:\n",
    "                fname = 'A_DeviceMotion_data/'+act+'_'+str(trial)+'/sub_'+str(int(sub_id))+'.csv'\n",
    "                raw_data = pd.read_csv(fname)\n",
    "                raw_data = raw_data.drop(['Unnamed: 0'], axis=1)\n",
    "                vals = np.zeros((len(raw_data), num_data_cols))\n",
    "                for x_id, axes in enumerate(dt_list):\n",
    "                    if mode == \"mag\":\n",
    "                        vals[:,x_id] = (raw_data[axes]**2).sum(axis=1)**0.5        \n",
    "                    else:\n",
    "                        vals[:,x_id*3:(x_id+1)*3] = raw_data[axes].values\n",
    "                    vals = vals[:,:num_data_cols]\n",
    "                if labeled:\n",
    "                    lbls = np.array([[act_id]]*len(raw_data))\n",
    "                    vals = np.concatenate((vals, lbls), axis=1)\n",
    "                dataset = np.append(dataset,vals, axis=0)\n",
    "    cols = []\n",
    "    for axes in dt_list:\n",
    "        if mode == \"raw\":\n",
    "            cols += axes\n",
    "        else:\n",
    "            cols += [str(axes[0][:-2])]\n",
    "            \n",
    "    if labeled:\n",
    "        cols += [\"act\"]\n",
    "    \n",
    "    dataset = pd.DataFrame(data=dataset, columns=cols)\n",
    "    return dataset"
   ]
  },
  {
   "cell_type": "markdown",
   "id": "5ffdb25b",
   "metadata": {},
   "source": [
    "You would need to decide what to include in your dataset, for example if you want to try a reduce dataset with only a few sensors then you can alter the `sdt` list. "
   ]
  },
  {
   "cell_type": "code",
   "execution_count": 3,
   "id": "ce4af905",
   "metadata": {},
   "outputs": [
    {
     "name": "stdout",
     "output_type": "stream",
     "text": [
      "[INFO] -- Selected sensor data types: ['attitude', 'userAcceleration']\n",
      "[INFO] -- Selected activites: ['dws', 'ups', 'wlk', 'jog']\n",
      "[INFO] -- Data subjects' information is imported.\n",
      "[INFO] -- Creating Time-Series\n",
      "[INFO] -- Shape of time-Series dataset:(767660, 7)\n"
     ]
    },
    {
     "data": {
      "text/html": [
       "<div>\n",
       "<style scoped>\n",
       "    .dataframe tbody tr th:only-of-type {\n",
       "        vertical-align: middle;\n",
       "    }\n",
       "\n",
       "    .dataframe tbody tr th {\n",
       "        vertical-align: top;\n",
       "    }\n",
       "\n",
       "    .dataframe thead th {\n",
       "        text-align: right;\n",
       "    }\n",
       "</style>\n",
       "<table border=\"1\" class=\"dataframe\">\n",
       "  <thead>\n",
       "    <tr style=\"text-align: right;\">\n",
       "      <th></th>\n",
       "      <th>attitude.roll</th>\n",
       "      <th>attitude.pitch</th>\n",
       "      <th>attitude.yaw</th>\n",
       "      <th>userAcceleration.x</th>\n",
       "      <th>userAcceleration.y</th>\n",
       "      <th>userAcceleration.z</th>\n",
       "      <th>act</th>\n",
       "    </tr>\n",
       "  </thead>\n",
       "  <tbody>\n",
       "    <tr>\n",
       "      <th>0</th>\n",
       "      <td>1.528132</td>\n",
       "      <td>-0.733896</td>\n",
       "      <td>0.696372</td>\n",
       "      <td>0.294894</td>\n",
       "      <td>-0.184493</td>\n",
       "      <td>0.377542</td>\n",
       "      <td>0.0</td>\n",
       "    </tr>\n",
       "    <tr>\n",
       "      <th>1</th>\n",
       "      <td>1.527992</td>\n",
       "      <td>-0.716987</td>\n",
       "      <td>0.677762</td>\n",
       "      <td>0.219405</td>\n",
       "      <td>0.035846</td>\n",
       "      <td>0.114866</td>\n",
       "      <td>0.0</td>\n",
       "    </tr>\n",
       "    <tr>\n",
       "      <th>2</th>\n",
       "      <td>1.527765</td>\n",
       "      <td>-0.706999</td>\n",
       "      <td>0.670951</td>\n",
       "      <td>0.010714</td>\n",
       "      <td>0.134701</td>\n",
       "      <td>-0.167808</td>\n",
       "      <td>0.0</td>\n",
       "    </tr>\n",
       "    <tr>\n",
       "      <th>3</th>\n",
       "      <td>1.516768</td>\n",
       "      <td>-0.704678</td>\n",
       "      <td>0.675735</td>\n",
       "      <td>-0.008389</td>\n",
       "      <td>0.136788</td>\n",
       "      <td>0.094958</td>\n",
       "      <td>0.0</td>\n",
       "    </tr>\n",
       "    <tr>\n",
       "      <th>4</th>\n",
       "      <td>1.493941</td>\n",
       "      <td>-0.703918</td>\n",
       "      <td>0.672994</td>\n",
       "      <td>0.199441</td>\n",
       "      <td>0.353996</td>\n",
       "      <td>-0.044299</td>\n",
       "      <td>0.0</td>\n",
       "    </tr>\n",
       "  </tbody>\n",
       "</table>\n",
       "</div>"
      ],
      "text/plain": [
       "   attitude.roll  attitude.pitch  attitude.yaw  userAcceleration.x  \\\n",
       "0       1.528132       -0.733896      0.696372            0.294894   \n",
       "1       1.527992       -0.716987      0.677762            0.219405   \n",
       "2       1.527765       -0.706999      0.670951            0.010714   \n",
       "3       1.516768       -0.704678      0.675735           -0.008389   \n",
       "4       1.493941       -0.703918      0.672994            0.199441   \n",
       "\n",
       "   userAcceleration.y  userAcceleration.z  act  \n",
       "0           -0.184493            0.377542  0.0  \n",
       "1            0.035846            0.114866  0.0  \n",
       "2            0.134701           -0.167808  0.0  \n",
       "3            0.136788            0.094958  0.0  \n",
       "4            0.353996           -0.044299  0.0  "
      ]
     },
     "execution_count": 3,
     "metadata": {},
     "output_type": "execute_result"
    }
   ],
   "source": [
    "ACT_LABELS = [\"dws\",\"ups\", \"wlk\", \"jog\", \"std\", \"sit\"]\n",
    "TRIAL_CODES = {\n",
    "    ACT_LABELS[0]:[1,2,11],\n",
    "    ACT_LABELS[1]:[3,4,12],\n",
    "    ACT_LABELS[2]:[7,8,15],\n",
    "    ACT_LABELS[3]:[9,16],\n",
    "    ACT_LABELS[4]:[6,14],\n",
    "    ACT_LABELS[5]:[5,13]\n",
    "}\n",
    "\n",
    "## Here we set parameter to build labeled time-series from dataset of \"(A)DeviceMotion_data\"\n",
    "## attitude(roll, pitch, yaw); gravity(x, y, z); rotationRate(x, y, z); userAcceleration(x,y,z)\n",
    "sdt = [\"attitude\", \"userAcceleration\"]\n",
    "print(\"[INFO] -- Selected sensor data types: \"+str(sdt))    \n",
    "act_labels = ACT_LABELS [0:4]\n",
    "print(\"[INFO] -- Selected activites: \"+str(act_labels))    \n",
    "trial_codes = [TRIAL_CODES[act] for act in act_labels]\n",
    "dt_list = set_data_types(sdt)\n",
    "dataset = create_time_series(dt_list, act_labels, trial_codes, mode=\"raw\", labeled=True)\n",
    "print(\"[INFO] -- Shape of time-Series dataset:\"+str(dataset.shape))    \n",
    "dataset.head()"
   ]
  },
  {
   "cell_type": "markdown",
   "id": "4b0a9c25",
   "metadata": {},
   "source": [
    "# Data Pre-processing\n",
    "There are numerous approaches to solving this task and your choice of algorithm will determine what form your input data should take. For example, a feed-forward neural network could be used, but what type of representation would make sense? Without being able to account for the temporal structure of the data, feed-forward networks might fail. One way around this is to potentially use summarized statistics about the data to simplify the features in a way that is not reliant on temporal information. E.g. instead of the raw signal for the acceleration, what if you worked with the mean? This might not be the best approach, compared to other algorithms, but it could be useful for a feed-forward network.\n",
    "\n",
    "what about convolutional neural networks? Well, you could use 1D convolutions directly on time-series data which would then result in fewer model parameters compared to a fully-connected network, with the added benefit of retaining temporal information. Alternatively you could look to transform the time-series data into 2D data using something such as an FFT to produce a spectogram. Or for something simpler you can create fixed windows to divide your dataset into chunks of 2D data e.g. for 6 sensors and a window of 400 samples you would generate a 6 x 400 input. "
   ]
  },
  {
   "cell_type": "code",
   "execution_count": null,
   "id": "51fcfc85",
   "metadata": {},
   "outputs": [],
   "source": [
    "def windows(dataset, window_size=400, stride=200):\n",
    "    \"\"\"\n",
    "    Create fixed-length windows of the input data. \n",
    "\n",
    "    Args:\n",
    "        dataset: DataFrame of the time-series data\n",
    "        size: (int) the size of the windows in number of samples.\n",
    "        stride: (int) the stride length of the windows. \n",
    "\n",
    "    Returns:\n",
    "        windows_df: DataFrame of the windowed time-series data. Each window should have the shape (n_sensors, window_size). \n",
    "            The number of examples will change depending on the stride.    \n",
    "\n",
    "    \"\"\"\n",
    "\n",
    "    windows_df = pd.DataFrame()\n",
    "\n",
    "    return windows_df"
   ]
  },
  {
   "cell_type": "markdown",
   "id": "85c80505",
   "metadata": {},
   "source": [
    "# Pytorch Dataset\n",
    "If using Pytorch it is useful to create datasets using their dataset structures. This may require modification if using additional transformations, or formats"
   ]
  },
  {
   "cell_type": "code",
   "execution_count": null,
   "id": "80b0ca36",
   "metadata": {},
   "outputs": [],
   "source": [
    "class MotionSense(Dataset):\n",
    "    def __init__(self, X, Y, transform=None):\n",
    "        self.X = torch.tensor(X.values)\n",
    "        self.Y = torch.tensor(Y.values)\n",
    "        self.transform = transform\n",
    "\n",
    "    def __getitem__(self, index):\n",
    "        if torch.is_tensor(index):\n",
    "            index = int(index.item())\n",
    "\n",
    "        x = self.X[index]\n",
    "        y = self.Y[index]\n",
    "\n",
    "        return x, y\n",
    "\n",
    "    def __len__(self):\n",
    "        return len(self.X)"
   ]
  },
  {
   "cell_type": "markdown",
   "id": "c7c9503b",
   "metadata": {},
   "source": [
    "# Resampling\n",
    "You can split the dataset using sklearn, but you need to take care with your specific data. For example, randomly splitting raw sensor data will result in jumbled time-series signals. "
   ]
  },
  {
   "cell_type": "code",
   "execution_count": null,
   "id": "0e102709",
   "metadata": {},
   "outputs": [],
   "source": [
    "X = dataset[dt_list[0]] # You could collect the input and target data as separate dataframes\n",
    "Y = dataset.act"
   ]
  },
  {
   "cell_type": "code",
   "execution_count": null,
   "id": "63575a79",
   "metadata": {},
   "outputs": [],
   "source": [
    "# You may be tempted to use train_test_split directly. But if using raw sensor data this would randomize the signals and not retain the order. \n",
    "X_train, X_test, Y_train, Y_test = train_test_split(X, Y, test_size=0.1) "
   ]
  },
  {
   "cell_type": "code",
   "execution_count": null,
   "id": "026c2586",
   "metadata": {},
   "outputs": [],
   "source": [
    "X_train.head() "
   ]
  },
  {
   "cell_type": "markdown",
   "id": "e4421d5c",
   "metadata": {},
   "source": [
    "Notice the indeces are all jumbled? If using windowed data the usual splitting methods work, as each window retains the order of sensor values, as long as you split the data along the correct axis. \n",
    "\n",
    "If using summarized data e.g. taking the mean, max, min etc. as input features rather than the raw data then you should be fine using train_test_split.\n",
    "\n",
    "If working with raw sensor data there is an sklearn fuction for splitting time series data to make splitting raw signals easier if you want to work with that instead."
   ]
  },
  {
   "cell_type": "code",
   "execution_count": null,
   "id": "d51bd192",
   "metadata": {},
   "outputs": [],
   "source": [
    "# Here is an example of the TimeSeriesSplit. It does create cross-validation data by default. \n",
    "ts_cv = TimeSeriesSplit(\n",
    "    n_splits=5,\n",
    "    gap=20,\n",
    "    max_train_size=10000,\n",
    "    test_size=1000\n",
    ")\n",
    "\n",
    "all_splits = list(ts_cv.split(X ,Y)) # These are indices, not the data itself."
   ]
  },
  {
   "cell_type": "markdown",
   "id": "ce931631",
   "metadata": {},
   "source": [
    "Once you have the indices you can sample the data"
   ]
  },
  {
   "cell_type": "code",
   "execution_count": null,
   "id": "5bd05035",
   "metadata": {},
   "outputs": [],
   "source": [
    "X.iloc[all_splits[0][0]].head() # This is the training input data from the first split"
   ]
  },
  {
   "cell_type": "code",
   "execution_count": null,
   "id": "f8eff6db",
   "metadata": {},
   "outputs": [],
   "source": [
    "Y.iloc[all_splits[0][0]].head() # This is the training target data from the first split. You can see the indices still match, and arre ordered correctly."
   ]
  },
  {
   "cell_type": "markdown",
   "id": "d68be307",
   "metadata": {},
   "source": [
    "Once you have your splits, you can convert them to Pytorch datasets for easier loading. Technically you could offload the sampling methods to Pytorch samplers, but this can be trickier to implement."
   ]
  },
  {
   "cell_type": "code",
   "execution_count": null,
   "id": "3440c2e9",
   "metadata": {},
   "outputs": [],
   "source": [
    "train_1 = MotionSense(X.iloc[all_splits[0][0]].reset_index(drop=True), \n",
    "                      Y.iloc[all_splits[0][0]].reset_index(drop=True)) # reset_index is to make sure each new set is indexed from 0\n",
    "train_1_loader = DataLoader(train_1, batch_size=5)  # Will load data in batches. Batching raw signals can be problematic if it cuts-off a given signal, or stitches it together with other signals etc."
   ]
  },
  {
   "cell_type": "markdown",
   "id": "9991d427",
   "metadata": {},
   "source": [
    "# Models\n",
    "As mentioned previously there are a few options for the types of models you end up using."
   ]
  },
  {
   "cell_type": "code",
   "execution_count": null,
   "id": "54ccb864",
   "metadata": {},
   "outputs": [],
   "source": [
    "def FCNet (nn.Module):\n",
    "    def __init__(self):\n",
    "        super(FCNet, self).__init__()\n",
    "        # define your model parameters\n",
    "\n",
    "    def forward(self, x):\n",
    "        # determine how data flows through the model\n",
    "        return x"
   ]
  },
  {
   "cell_type": "markdown",
   "id": "7ee2480d",
   "metadata": {},
   "source": [
    "# Training\n",
    "With your model defined you will need to decide on an optimizer used to perform parameter updates. The choice is yours, but for the most part default optimizers like Adam should work for CNNs, although SGD can be more stable but take longer to train. \n",
    "\n",
    "You can then load in data, for example if using the loader described before the loop shown below will iterate through batches of data. "
   ]
  },
  {
   "cell_type": "code",
   "execution_count": null,
   "id": "b27dc84e",
   "metadata": {},
   "outputs": [],
   "source": [
    "for i, (X, Y) in enumerate(train_1_loader, 0):\n",
    "    print(f\"Batch: {i}\")\n",
    "    print(f\"Input: {X}\")\n",
    "    print(f\"Target: {Y}\")"
   ]
  },
  {
   "cell_type": "markdown",
   "id": "3db0aa1b",
   "metadata": {},
   "source": [
    "# Evaluation\n",
    "Make sure to correctly evaluate your models. Justify your methods given your particular model and data used e.g. if you use random holdout, is it justified? What do your performance metrics tell you e.g. was the model overfitting, underfitting, are their early stages in the training process where the model performs well compared to the end of training, which model do you choose to save, are the model outputs \"reasonable\" i.e. are there errors that might make sense given the data? "
   ]
  },
  {
   "cell_type": "code",
   "execution_count": 6,
   "id": "f93baf25",
   "metadata": {},
   "outputs": [],
   "source": [
    "class LSTMClassifier(nn.Module):\n",
    "    def __init__(self, input_dim, hidden_dim, num_layers, num_classes, dropout=0.3):\n",
    "        super(LSTMClassifier, self).__init__()\n",
    "        self.hidden_dim = hidden_dim\n",
    "        self.num_layers = num_layers\n",
    "\n",
    "        self.lstm = nn.LSTM(input_dim, hidden_dim, num_layers,\n",
    "                            batch_first=True, dropout=dropout)\n",
    "        self.fc = nn.Linear(hidden_dim, num_classes)\n",
    "\n",
    "    def forward(self, x):\n",
    "        # Set initial hidden and cell states\n",
    "        h0 = torch.zeros(self.num_layers, x.size(0), self.hidden_dim).to(x.device)\n",
    "        c0 = torch.zeros(self.num_layers, x.size(0), self.hidden_dim).to(x.device)\n",
    "\n",
    "        out, _ = self.lstm(x, (h0, c0))  # out: tensor of shape (batch_size, seq_length, hidden_dim)\n",
    "        out = out[:, -1, :]  # Get last time step output\n",
    "        out = self.fc(out)\n",
    "        return out\n"
   ]
  },
  {
   "cell_type": "code",
   "execution_count": 7,
   "id": "ba2dcb45",
   "metadata": {},
   "outputs": [],
   "source": [
    "device = torch.device('cuda' if torch.cuda.is_available() else 'cpu')"
   ]
  },
  {
   "cell_type": "code",
   "execution_count": 8,
   "id": "a1abc053",
   "metadata": {},
   "outputs": [
    {
     "name": "stdout",
     "output_type": "stream",
     "text": [
      "Epoch 1/10, Loss: 93.6627, Accuracy: 45.17%\n",
      "Epoch 2/10, Loss: 83.2661, Accuracy: 53.64%\n",
      "Epoch 3/10, Loss: 63.0061, Accuracy: 62.08%\n",
      "Epoch 4/10, Loss: 56.1883, Accuracy: 65.92%\n",
      "Epoch 5/10, Loss: 57.9205, Accuracy: 66.67%\n",
      "Epoch 6/10, Loss: 55.0101, Accuracy: 68.36%\n",
      "Epoch 7/10, Loss: 55.8921, Accuracy: 68.08%\n",
      "Epoch 8/10, Loss: 51.9549, Accuracy: 72.07%\n",
      "Epoch 9/10, Loss: 49.9429, Accuracy: 73.13%\n",
      "Epoch 10/10, Loss: 53.1841, Accuracy: 71.63%\n"
     ]
    }
   ],
   "source": [
    "# PREPROCESSING\n",
    "sequence_length = 128\n",
    "\n",
    "# Select features and labels\n",
    "features = dataset.drop(\"act\", axis=1).values\n",
    "labels = dataset[\"act\"].astype(int).values\n",
    "\n",
    "# Normalize features\n",
    "scaler = StandardScaler()\n",
    "features = scaler.fit_transform(features)\n",
    "\n",
    "# Create sequences\n",
    "X_seq = []\n",
    "y_seq = []\n",
    "for i in range(0, len(features) - sequence_length, sequence_length):\n",
    "    X_seq.append(features[i:i + sequence_length])\n",
    "    y_seq.append(labels[i + sequence_length - 1])\n",
    "\n",
    "X_seq = np.array(X_seq)\n",
    "y_seq = np.array(y_seq)\n",
    "\n",
    "# Make sure we do not mix subjects — assume sequential samples come from same subject\n",
    "from sklearn.model_selection import train_test_split\n",
    "X_train, X_test, y_train, y_test = train_test_split(X_seq, y_seq, test_size=0.2, random_state=42, stratify=y_seq)\n",
    "\n",
    "# PyTorch Dataset\n",
    "class HAR_Dataset(Dataset):\n",
    "    def __init__(self, X, y):\n",
    "        self.X = torch.tensor(X, dtype=torch.float32)\n",
    "        self.y = torch.tensor(y, dtype=torch.long)\n",
    "\n",
    "    def __len__(self):\n",
    "        return len(self.X)\n",
    "\n",
    "    def __getitem__(self, idx):\n",
    "        return self.X[idx], self.y[idx]\n",
    "\n",
    "train_dataset = HAR_Dataset(X_train, y_train)\n",
    "test_dataset = HAR_Dataset(X_test, y_test)\n",
    "\n",
    "train_loader = DataLoader(train_dataset, batch_size=64, shuffle=True)\n",
    "test_loader = DataLoader(test_dataset, batch_size=64, shuffle=False)\n",
    "\n",
    "# Instantiate model\n",
    "input_dim = X_train.shape[2]\n",
    "num_classes = len(np.unique(y_train))\n",
    "model = LSTMClassifier(input_dim=input_dim, hidden_dim=64, num_layers=2, num_classes=num_classes).to(device)\n",
    "\n",
    "# Loss and optimizer\n",
    "criterion = nn.CrossEntropyLoss()\n",
    "optimizer = optim.Adam(model.parameters(), lr=0.001)\n",
    "\n",
    "# TRAINING\n",
    "epochs = 10\n",
    "for epoch in range(epochs):\n",
    "    model.train()\n",
    "    running_loss = 0\n",
    "    correct, total = 0, 0\n",
    "    for X_batch, y_batch in train_loader:\n",
    "        X_batch, y_batch = X_batch.to(device), y_batch.to(device)\n",
    "\n",
    "        optimizer.zero_grad()\n",
    "        outputs = model(X_batch)\n",
    "        loss = criterion(outputs, y_batch)\n",
    "        loss.backward()\n",
    "        optimizer.step()\n",
    "\n",
    "        running_loss += loss.item()\n",
    "        _, predicted = torch.max(outputs, 1)\n",
    "        total += y_batch.size(0)\n",
    "        correct += (predicted == y_batch).sum().item()\n",
    "\n",
    "    acc = 100 * correct / total\n",
    "    print(f\"Epoch {epoch+1}/{epochs}, Loss: {running_loss:.4f}, Accuracy: {acc:.2f}%\")"
   ]
  },
  {
   "cell_type": "code",
   "execution_count": 13,
   "id": "8a58739d-05b8-461b-8243-b64ad2731645",
   "metadata": {},
   "outputs": [
    {
     "name": "stdout",
     "output_type": "stream",
     "text": [
      "Classification Report:\n",
      "              precision    recall  f1-score   support\n",
      "\n",
      "           0       0.54      0.43      0.48       206\n",
      "           1       0.64      0.60      0.62       246\n",
      "           2       0.80      0.88      0.84       538\n",
      "           3       0.93      0.95      0.94       210\n",
      "\n",
      "    accuracy                           0.76      1200\n",
      "   macro avg       0.73      0.71      0.72      1200\n",
      "weighted avg       0.75      0.76      0.75      1200\n",
      "\n"
     ]
    },
    {
     "data": {
      "image/png": "[encoded data removed]",
      "text/plain": [
       "<Figure size 800x600 with 2 Axes>"
      ]
     },
     "metadata": {},
     "output_type": "display_data"
    },
    {
     "name": "stdout",
     "output_type": "stream",
     "text": [
      "Accuracy: 71.63%\n"
     ]
    }
   ],
   "source": [
    "model.eval()\n",
    "y_true, y_pred = [], []\n",
    "with torch.no_grad():\n",
    "    for X_batch, y_batch in test_loader:\n",
    "        X_batch = X_batch.to(device)\n",
    "        outputs = model(X_batch)\n",
    "        _, predicted = torch.max(outputs, 1)\n",
    "        y_true.extend(y_batch.cpu().numpy())\n",
    "        y_pred.extend(predicted.cpu().numpy())\n",
    "\n",
    "# Calculate accuracy (assuming correct and total are defined earlier in your code)\n",
    "accuracy = 100 * correct / total\n",
    "\n",
    "# Generate classification report\n",
    "print(\"Classification Report:\")\n",
    "print(classification_report(y_true, y_pred))\n",
    "\n",
    "# Generate confusion matrix\n",
    "cm = confusion_matrix(y_true, y_pred)\n",
    "\n",
    "# Plot confusion matrix as a heatmap\n",
    "plt.figure(figsize=(8, 6))\n",
    "sns.heatmap(cm, annot=True, fmt='d', cmap='Blues', cbar=True, \n",
    "            xticklabels=['dws', 'ups', 'wlk', 'jog'], \n",
    "            yticklabels=['dws', 'ups', 'wlk', 'jog'])\n",
    "plt.title('Confusion Matrix Heatmap')\n",
    "plt.xlabel('Predicted Label')\n",
    "plt.ylabel('True Label')\n",
    "plt.tight_layout()\n",
    "plt.show()\n",
    "\n",
    "# Print accuracy\n",
    "print(f\"Accuracy: {accuracy:.2f}%\")"
   ]
  },
  {
   "cell_type": "code",
   "execution_count": null,
   "id": "1941def7-8658-4aa9-856d-c39eacb3e4cd",
   "metadata": {},
   "outputs": [],
   "source": []
  }
 ],
 "metadata": {
  "kernelspec": {
   "display_name": "Python [conda env:base] *",
   "language": "python",
   "name": "conda-base-py"
  },
  "language_info": {
   "codemirror_mode": {
    "name": "ipython",
    "version": 3
   },
   "file_extension": ".py",
   "mimetype": "text/x-python",
   "name": "python",
   "nbconvert_exporter": "python",
   "pygments_lexer": "ipython3",
   "version": "3.12.7"
  }
 },
 "nbformat": 4,
 "nbformat_minor": 5
}
